{
  "cells": [
    {
      "cell_type": "code",
      "source": [
        "from google.colab import drive\n",
        "drive.mount('/content/drive')"
      ],
      "metadata": {
        "colab": {
          "base_uri": "https://localhost:8080/"
        },
        "id": "K8ZJ-3bUNvda",
        "outputId": "07922b68-2980-42c7-d8ad-70509a89fe2f"
      },
      "execution_count": 1,
      "outputs": [
        {
          "output_type": "stream",
          "name": "stdout",
          "text": [
            "Mounted at /content/drive\n"
          ]
        }
      ]
    },
    {
      "cell_type": "markdown",
      "source": [
        "# Sentiment Analysis on Covid-19 tweets"
      ],
      "metadata": {
        "id": "T81N3c_wI89K"
      }
    },
    {
      "cell_type": "markdown",
      "source": [
        "### Load Libraries"
      ],
      "metadata": {
        "id": "URe6ONHsJTPR"
      }
    },
    {
      "cell_type": "code",
      "execution_count": 2,
      "metadata": {
        "id": "DAiXrLdNdL3o"
      },
      "outputs": [],
      "source": [
        "import numpy as np\n",
        "import pandas as pd\n",
        "import matplotlib as mlp\n",
        "import matplotlib.pyplot as plt\n",
        "import tensorflow as tf\n",
        "from tensorflow import keras\n",
        "from keras import layers\n",
        "import re"
      ]
    },
    {
      "cell_type": "markdown",
      "source": [
        "### Load and preprocess data"
      ],
      "metadata": {
        "id": "_Olh5DfZJh0c"
      }
    },
    {
      "cell_type": "code",
      "source": [
        "def load_and_preprocess_data(filepath):\n",
        "  df= pd.read_csv(filepath)\n",
        "  x= list(map(str,df.OriginalTweet))\n",
        "  y= list(map(str, df.Sentiment))\n",
        "  s_to_n= {'Negative':0, 'Positive': 1, 'Neutral': 2}\n",
        "  n_to_s= {0:'Negative', 1:'Positive', 2:'Neutral'}\n",
        "  for i in range(len(y)):\n",
        "    y[i]=re.sub('Extremely Negative', 'Negative', y[i])\n",
        "    y[i]=re.sub('Extremely Positive', 'Positive', y[i])\n",
        "    y[i]= s_to_n[y[i]]\n",
        "  for i in range(len(x)):\n",
        "    x[i]= re.sub('https:\\S+', '', x[i]).lower()\n",
        "    x[i]= re.sub('\\s+',' ', x[i])\n",
        "    x[i]=re.sub('[!\"#$%&\\'()*+,-./:;<=>?@[\\\\]^_`{|}~]+', '', x[i])\n",
        "  y= tf.keras.utils.to_categorical(y, num_classes=3)\n",
        "  ds= tf.data.Dataset.from_tensor_slices((x, y))\n",
        "  ds= ds.shuffle(10000).batch(64).prefetch(tf.data.AUTOTUNE)\n",
        "  return ds, n_to_s"
      ],
      "metadata": {
        "id": "AKP07CT1KZHV"
      },
      "execution_count": 31,
      "outputs": []
    },
    {
      "cell_type": "code",
      "execution_count": 32,
      "metadata": {
        "id": "WkIICohlZIoO"
      },
      "outputs": [],
      "source": [
        "def encode_data(train_ds):\n",
        "  VOCAB_SIZE = 10000\n",
        "  encoder = tf.keras.layers.TextVectorization(max_tokens=VOCAB_SIZE, output_mode='int', output_sequence_length=200)\n",
        "  encoder.adapt(train_ds.map(lambda text, label: text))\n",
        "  return encoder"
      ]
    },
    {
      "cell_type": "code",
      "source": [
        "def plot_graphs(history, metric):\n",
        "  plt.plot(history.history[metric])\n",
        "  plt.plot(history.history['val_'+metric], '')\n",
        "  plt.xlabel(\"Epochs\")\n",
        "  plt.ylabel(metric)\n",
        "  plt.legend([metric, 'val_'+metric])"
      ],
      "metadata": {
        "id": "ePmmbCyxRra_"
      },
      "execution_count": 33,
      "outputs": []
    },
    {
      "cell_type": "markdown",
      "source": [
        "### Compile model"
      ],
      "metadata": {
        "id": "d3MFC_7dJvCg"
      }
    },
    {
      "cell_type": "code",
      "execution_count": 41,
      "metadata": {
        "id": "ZO8URPiSj43y"
      },
      "outputs": [],
      "source": [
        "def Sentiment_model(encoder):\n",
        "  model = tf.keras.Sequential([\n",
        "      encoder,\n",
        "      layers.Embedding(10000, 64, mask_zero=True),\n",
        "      layers.Bidirectional(layers.LSTM(256, return_sequences=True)),\n",
        "      layers.GlobalMaxPool1D(),\n",
        "      layers.Dropout(0.4),\n",
        "      layers.Dense(64, activation='relu'),\n",
        "      layers.Dropout(0.4),\n",
        "      layers.Dense(3, activation='softmax'),])\n",
        "  model.compile(loss='categorical_crossentropy', optimizer=tf.keras.optimizers.Adam(1e-4), metrics=['accuracy'])\n",
        "  return model"
      ]
    },
    {
      "cell_type": "markdown",
      "source": [
        "### Fit model"
      ],
      "metadata": {
        "id": "StNC46KsNXxH"
      }
    },
    {
      "cell_type": "code",
      "source": [
        "train_filepath= \"/content/drive/MyDrive/Corona_Sentiment/Corona_NLP_train.csv\"\n",
        "test_filepath= \"/content/drive/MyDrive/Corona_Sentiment/Corona_NLP_test.csv\"\n",
        "train_ds, n_to_s=load_and_preprocess_data(train_filepath)\n",
        "test_ds, _= load_and_preprocess_data(test_filepath)\n",
        "encoder= encode_data(train_ds)\n",
        "my_model= Sentiment_model(encoder)"
      ],
      "metadata": {
        "id": "Cu_yDxvBNfxu"
      },
      "execution_count": 42,
      "outputs": []
    },
    {
      "cell_type": "code",
      "execution_count": 43,
      "metadata": {
        "colab": {
          "base_uri": "https://localhost:8080/"
        },
        "id": "LguiuvHToH3m",
        "outputId": "153051f6-31f5-4b5a-db7b-b7d698730213"
      },
      "outputs": [
        {
          "output_type": "stream",
          "name": "stdout",
          "text": [
            "Epoch 1/3\n",
            "644/644 [==============================] - 67s 89ms/step - loss: 0.9868 - accuracy: 0.4610 - val_loss: 0.9130 - val_accuracy: 0.5630\n",
            "Epoch 2/3\n",
            "644/644 [==============================] - 54s 85ms/step - loss: 0.7360 - accuracy: 0.7050 - val_loss: 0.6695 - val_accuracy: 0.7365\n",
            "Epoch 3/3\n",
            "644/644 [==============================] - 55s 86ms/step - loss: 0.5141 - accuracy: 0.8228 - val_loss: 0.6082 - val_accuracy: 0.7734\n"
          ]
        }
      ],
      "source": [
        "history = my_model.fit(train_ds, epochs=3,\n",
        "                    validation_data=test_ds,\n",
        "                    validation_steps=30)"
      ]
    },
    {
      "cell_type": "code",
      "source": [
        "history = my_model.fit(train_ds, epochs=3,\n",
        "                    validation_data=test_ds,\n",
        "                    validation_steps=30)"
      ],
      "metadata": {
        "colab": {
          "base_uri": "https://localhost:8080/"
        },
        "id": "ISWLYkZCh4N8",
        "outputId": "ee3418b3-de1e-44af-bbfa-f2cbf4c05516"
      },
      "execution_count": 44,
      "outputs": [
        {
          "output_type": "stream",
          "name": "stdout",
          "text": [
            "Epoch 1/3\n",
            "644/644 [==============================] - 56s 87ms/step - loss: 0.4080 - accuracy: 0.8706 - val_loss: 0.5831 - val_accuracy: 0.8010\n",
            "Epoch 2/3\n",
            "644/644 [==============================] - 56s 86ms/step - loss: 0.3473 - accuracy: 0.8930 - val_loss: 0.5077 - val_accuracy: 0.8229\n",
            "Epoch 3/3\n",
            "644/644 [==============================] - 53s 83ms/step - loss: 0.3072 - accuracy: 0.9078 - val_loss: 0.4973 - val_accuracy: 0.8276\n"
          ]
        }
      ]
    },
    {
      "cell_type": "markdown",
      "source": [
        "### Evaluate model"
      ],
      "metadata": {
        "id": "1iEoo9KcJ2_a"
      }
    },
    {
      "cell_type": "code",
      "execution_count": 45,
      "metadata": {
        "colab": {
          "base_uri": "https://localhost:8080/"
        },
        "id": "X7NucTIQys-I",
        "outputId": "73acdad7-3e0a-4ff3-920a-1c102cf71cca"
      },
      "outputs": [
        {
          "output_type": "stream",
          "name": "stdout",
          "text": [
            "60/60 [==============================] - 1s 22ms/step - loss: 0.5336 - accuracy: 0.8175\n",
            "Test Loss: 0.5335776209831238\n",
            "Test Accuracy: 0.8175355195999146\n"
          ]
        }
      ],
      "source": [
        "test_loss, test_acc = my_model.evaluate(test_ds)\n",
        "\n",
        "print('Test Loss:', test_loss)\n",
        "print('Test Accuracy:', test_acc)"
      ]
    },
    {
      "cell_type": "code",
      "execution_count": 46,
      "metadata": {
        "colab": {
          "base_uri": "https://localhost:8080/",
          "height": 388
        },
        "id": "WioiJtlx3i1l",
        "outputId": "b1911f9e-2e89-4e8c-cf22-c0702aba61f7"
      },
      "outputs": [
        {
          "output_type": "display_data",
          "data": {
            "image/png": "[encoded data removed]",
            "text/plain": [
              "<Figure size 1152x432 with 2 Axes>"
            ]
          },
          "metadata": {
            "needs_background": "light"
          }
        }
      ],
      "source": [
        "plt.figure(figsize=(16, 6))\n",
        "plt.subplot(1, 2, 1)\n",
        "plot_graphs(history, 'accuracy')\n",
        "plt.subplot(1, 2, 2)\n",
        "plot_graphs(history, 'loss')"
      ]
    },
    {
      "cell_type": "code",
      "execution_count": null,
      "metadata": {
        "id": "SQIHhmieZNMU"
      },
      "outputs": [],
      "source": [
        ""
      ]
    }
  ],
  "metadata": {
    "colab": {
      "collapsed_sections": [],
      "name": "covid19_nlp.ipynb",
      "provenance": []
    },
    "kernelspec": {
      "display_name": "Python 3",
      "name": "python3"
    },
    "language_info": {
      "name": "python"
    },
    "accelerator": "GPU"
  },
  "nbformat": 4,
  "nbformat_minor": 0
}