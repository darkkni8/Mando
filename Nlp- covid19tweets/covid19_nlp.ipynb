{
  "cells": [
    {
      "cell_type": "code",
      "execution_count": 58,
      "metadata": {
        "id": "DAiXrLdNdL3o"
      },
      "outputs": [],
      "source": [
        "import numpy as np\n",
        "import pandas as pd\n",
        "import matplotlib as mlp\n",
        "import matplotlib.pyplot as plt\n",
        "import tensorflow as tf\n",
        "from tensorflow import keras\n",
        "from keras import layers"
      ]
    },
    {
      "cell_type": "code",
      "execution_count": 59,
      "metadata": {
        "id": "cRnSjta6mxXp"
      },
      "outputs": [],
      "source": [
        "def plot_graphs(history, metric):\n",
        "  plt.plot(history.history[metric])\n",
        "  plt.plot(history.history['val_'+metric], '')\n",
        "  plt.xlabel(\"Epochs\")\n",
        "  plt.ylabel(metric)\n",
        "  plt.legend([metric, 'val_'+metric])"
      ]
    },
    {
      "cell_type": "code",
      "execution_count": 60,
      "metadata": {
        "id": "0Wgozpx2S5n1"
      },
      "outputs": [],
      "source": [
        "train_file= pd.read_csv('/content/drive/MyDrive/Corona_NLP/Corona_NLP_train.csv')\n",
        "test_file= pd.read_csv('/content/drive/MyDrive/Corona_NLP/Corona_NLP_test.csv')"
      ]
    },
    {
      "cell_type": "code",
      "execution_count": 61,
      "metadata": {
        "id": "Y6aTutOmVzsN"
      },
      "outputs": [],
      "source": [
        "train_ds= tf.data.Dataset.from_tensor_slices((train_file.OriginalTweet, train_file.Sentiment))\n",
        "test_ds= tf.data.Dataset.from_tensor_slices((test_file.OriginalTweet, test_file.Sentiment))"
      ]
    },
    {
      "cell_type": "code",
      "execution_count": 62,
      "metadata": {
        "id": "QEdiRpinXzVh"
      },
      "outputs": [],
      "source": [
        "BUFFER_SIZE = 10000\n",
        "BATCH_SIZE = 64"
      ]
    },
    {
      "cell_type": "code",
      "execution_count": 63,
      "metadata": {
        "id": "iafbYz9PYFGG"
      },
      "outputs": [],
      "source": [
        "train_ds = train_ds.shuffle(BUFFER_SIZE).batch(BATCH_SIZE).prefetch(tf.data.AUTOTUNE)\n",
        "test_ds = test_ds.batch(BATCH_SIZE).prefetch(tf.data.AUTOTUNE)"
      ]
    },
    {
      "cell_type": "code",
      "execution_count": 64,
      "metadata": {
        "id": "WkIICohlZIoO"
      },
      "outputs": [],
      "source": [
        "VOCAB_SIZE = 10000\n",
        "encoder = tf.keras.layers.TextVectorization(max_tokens=VOCAB_SIZE, output_mode='int', output_sequence_length=200)\n",
        "encoder.adapt(train_ds.map(lambda text, label: text))"
      ]
    },
    {
      "cell_type": "code",
      "execution_count": 65,
      "metadata": {
        "id": "ZO8URPiSj43y"
      },
      "outputs": [],
      "source": [
        "model = tf.keras.Sequential([\n",
        "    encoder,\n",
        "    layers.Embedding(len(encoder.get_vocabulary()), 128, mask_zero=True),\n",
        "    layers.Bidirectional(layers.LSTM(64, return_sequences=True)),\n",
        "    layers.Dropout(0.5),\n",
        "    layers.Bidirectional(layers.LSTM(64)),\n",
        "    layers.Dropout(0.5),\n",
        "    layers.Dense(1, activation=\"sigmoid\"),\n",
        "])"
      ]
    },
    {
      "cell_type": "code",
      "execution_count": 66,
      "metadata": {
        "colab": {
          "base_uri": "https://localhost:8080/"
        },
        "id": "SdaMzD6ykLZ6",
        "outputId": "3a34389a-de3f-46de-c602-e541ddf2b921"
      },
      "outputs": [
        {
          "output_type": "stream",
          "name": "stdout",
          "text": [
            "Model: \"sequential_4\"\n",
            "_________________________________________________________________\n",
            " Layer (type)                Output Shape              Param #   \n",
            "=================================================================\n",
            " text_vectorization_5 (TextV  (None, 200)              0         \n",
            " ectorization)                                                   \n",
            "                                                                 \n",
            " embedding_4 (Embedding)     (None, 200, 128)          1280000   \n",
            "                                                                 \n",
            " bidirectional_6 (Bidirectio  (None, 200, 128)         98816     \n",
            " nal)                                                            \n",
            "                                                                 \n",
            " dropout_2 (Dropout)         (None, 200, 128)          0         \n",
            "                                                                 \n",
            " bidirectional_7 (Bidirectio  (None, 128)              98816     \n",
            " nal)                                                            \n",
            "                                                                 \n",
            " dropout_3 (Dropout)         (None, 128)               0         \n",
            "                                                                 \n",
            " dense_5 (Dense)             (None, 1)                 129       \n",
            "                                                                 \n",
            "=================================================================\n",
            "Total params: 1,477,761\n",
            "Trainable params: 1,477,761\n",
            "Non-trainable params: 0\n",
            "_________________________________________________________________\n"
          ]
        }
      ],
      "source": [
        "model.compile(loss='binary_crossentropy',\n",
        "              optimizer=tf.keras.optimizers.Adam(1e-4),\n",
        "              metrics=['accuracy'])\n",
        "model.summary()"
      ]
    },
    {
      "cell_type": "code",
      "execution_count": 67,
      "metadata": {
        "colab": {
          "base_uri": "https://localhost:8080/"
        },
        "id": "LguiuvHToH3m",
        "outputId": "d628ab24-5040-4e21-8e7d-1ac0bca765c9"
      },
      "outputs": [
        {
          "output_type": "stream",
          "name": "stdout",
          "text": [
            "Epoch 1/3\n",
            "523/523 [==============================] - 553s 1s/step - loss: 0.5643 - accuracy: 0.6791 - val_loss: 0.4532 - val_accuracy: 0.7974\n",
            "Epoch 2/3\n",
            "523/523 [==============================] - 534s 1s/step - loss: 0.2953 - accuracy: 0.8844 - val_loss: 0.3737 - val_accuracy: 0.8411\n",
            "Epoch 3/3\n",
            "523/523 [==============================] - 531s 1s/step - loss: 0.2138 - accuracy: 0.9218 - val_loss: 0.3756 - val_accuracy: 0.8396\n"
          ]
        }
      ],
      "source": [
        "history = model.fit(train_ds, epochs=3,\n",
        "                    validation_data=test_ds,\n",
        "                    validation_steps=30)"
      ]
    },
    {
      "cell_type": "code",
      "execution_count": 68,
      "metadata": {
        "colab": {
          "base_uri": "https://localhost:8080/"
        },
        "id": "X7NucTIQys-I",
        "outputId": "888870ae-c89f-44da-fb44-867e8ce4dff4"
      },
      "outputs": [
        {
          "output_type": "stream",
          "name": "stdout",
          "text": [
            "50/50 [==============================] - 12s 237ms/step - loss: 0.3753 - accuracy: 0.8424\n",
            "Test Loss: 0.37525439262390137\n",
            "Test Accuracy: 0.8424032926559448\n"
          ]
        }
      ],
      "source": [
        "test_loss, test_acc = model.evaluate(test_ds)\n",
        "\n",
        "print('Test Loss:', test_loss)\n",
        "print('Test Accuracy:', test_acc)"
      ]
    },
    {
      "cell_type": "code",
      "execution_count": 69,
      "metadata": {
        "colab": {
          "base_uri": "https://localhost:8080/",
          "height": 388
        },
        "id": "WioiJtlx3i1l",
        "outputId": "b27f9647-0bf1-4d4d-d419-c514613a5a01"
      },
      "outputs": [
        {
          "output_type": "display_data",
          "data": {
            "image/png": "[encoded data removed]",
            "text/plain": [
              "<Figure size 1152x432 with 2 Axes>"
            ]
          },
          "metadata": {
            "needs_background": "light"
          }
        }
      ],
      "source": [
        "plt.figure(figsize=(16, 6))\n",
        "plt.subplot(1, 2, 1)\n",
        "plot_graphs(history, 'accuracy')\n",
        "plt.subplot(1, 2, 2)\n",
        "plot_graphs(history, 'loss')"
      ]
    },
    {
      "cell_type": "code",
      "source": [
        "s2n={0.0:'Negative', 1.0:'Positive'}"
      ],
      "metadata": {
        "id": "tdpfziYTsNlo"
      },
      "execution_count": 78,
      "outputs": []
    },
    {
      "cell_type": "code",
      "execution_count": 85,
      "metadata": {
        "id": "QINzfKwo30WS",
        "colab": {
          "base_uri": "https://localhost:8080/"
        },
        "outputId": "fca7a6ed-5633-4f36-bb43-cc76b3ec57e5"
      },
      "outputs": [
        {
          "output_type": "stream",
          "name": "stdout",
          "text": [
            "The good news is that vaccines are working.\n",
            "Positive\n"
          ]
        }
      ],
      "source": [
        "sample_text = ('The good news is that vaccines are working.')\n",
        "predictions = s2n[np.round(model.predict(np.array([sample_text]))[0][0])]\n",
        "print(sample_text)\n",
        "print(predictions)"
      ]
    },
    {
      "cell_type": "code",
      "execution_count": null,
      "metadata": {
        "id": "SQIHhmieZNMU"
      },
      "outputs": [],
      "source": [
        ""
      ]
    }
  ],
  "metadata": {
    "accelerator": "TPU",
    "colab": {
      "collapsed_sections": [],
      "name": "covid19_nlp.ipynb",
      "provenance": []
    },
    "kernelspec": {
      "display_name": "Python 3",
      "name": "python3"
    },
    "language_info": {
      "name": "python"
    }
  },
  "nbformat": 4,
  "nbformat_minor": 0
}