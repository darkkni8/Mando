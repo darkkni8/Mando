{
 "cells": [
  {
   "cell_type": "code",
   "execution_count": 1,
   "metadata": {},
   "outputs": [],
   "source": [
    "import pandas as pd\n",
    "from sklearn.preprocessing import OneHotEncoder\n",
    "from sklearn.impute import SimpleImputer\n",
    "from sklearn.model_selection import train_test_split\n",
    "pd.plotting.register_matplotlib_converters()\n",
    "import matplotlib.pyplot as plt\n",
    "%matplotlib inline\n",
    "import seaborn as sns\n",
    "from sklearn.compose import ColumnTransformer\n",
    "from sklearn.pipeline import Pipeline\n",
    "from sklearn.metrics import mean_absolute_error\n",
    "from sklearn.model_selection import cross_val_score\n",
    "from sklearn.preprocessing import StandardScaler\n",
    "from sklearn.linear_model import LogisticRegression\n",
    "from sklearn.discriminant_analysis import LinearDiscriminantAnalysis\n",
    "from sklearn.neighbors import KNeighborsClassifier\n",
    "from sklearn.naive_bayes import GaussianNB\n",
    "from sklearn.tree import DecisionTreeClassifier\n",
    "from sklearn.svm import SVC\n",
    "from sklearn.model_selection import GridSearchCV\n",
    "import numpy"
   ]
  },
  {
   "cell_type": "code",
   "execution_count": 2,
   "metadata": {},
   "outputs": [],
   "source": [
    "data= 'titanic_train.csv'\n",
    "test_data=\"titanic_test.csv\""
   ]
  },
  {
   "cell_type": "code",
   "execution_count": 3,
   "metadata": {},
   "outputs": [
    {
     "name": "stdout",
     "output_type": "stream",
     "text": [
      "             Pclass                                               Name  \\\n",
      "PassengerId                                                              \n",
      "1                 3                            Braund, Mr. Owen Harris   \n",
      "2                 1  Cumings, Mrs. John Bradley (Florence Briggs Th...   \n",
      "3                 3                             Heikkinen, Miss. Laina   \n",
      "4                 1       Futrelle, Mrs. Jacques Heath (Lily May Peel)   \n",
      "5                 3                           Allen, Mr. William Henry   \n",
      "\n",
      "                Sex   Age  SibSp  Parch            Ticket     Fare Cabin  \\\n",
      "PassengerId                                                                \n",
      "1              male  22.0      1      0         A/5 21171   7.2500   NaN   \n",
      "2            female  38.0      1      0          PC 17599  71.2833   C85   \n",
      "3            female  26.0      0      0  STON/O2. 3101282   7.9250   NaN   \n",
      "4            female  35.0      1      0            113803  53.1000  C123   \n",
      "5              male  35.0      0      0            373450   8.0500   NaN   \n",
      "\n",
      "            Embarked  \n",
      "PassengerId           \n",
      "1                  S  \n",
      "2                  C  \n",
      "3                  S  \n",
      "4                  S  \n",
      "5                  S  \n"
     ]
    }
   ],
   "source": [
    "X= pd.read_csv(data, index_col='PassengerId')\n",
    "X_test=pd.read_csv(test_data, index_col=\"PassengerId\")\n",
    "y= X.Survived\n",
    "X=X.drop(['Survived'], axis=1)\n",
    "print(X.head())"
   ]
  },
  {
   "cell_type": "code",
   "execution_count": 4,
   "metadata": {},
   "outputs": [],
   "source": [
    "X_train, X_val, Y_train, Y_val = train_test_split(X,y, test_size=0.3, random_state= 1)"
   ]
  },
  {
   "cell_type": "code",
   "execution_count": 5,
   "metadata": {},
   "outputs": [
    {
     "name": "stdout",
     "output_type": "stream",
     "text": [
      "cols with missing:  ['Age', 'Cabin', 'Embarked']\n",
      "object cols:  ['Name', 'Sex', 'Ticket', 'Cabin', 'Embarked']\n",
      "no. of unique entries:  {'Name': 623, 'Sex': 2, 'Ticket': 512, 'Cabin': 106, 'Embarked': 3}\n",
      "low_cardinality_cols:  ['Sex', 'Embarked']\n",
      "high_cardinality_cols:  ['Cabin', 'Name', 'Ticket']\n",
      "numerical_cols ['Parch', 'SibSp', 'Fare', 'Age', 'Pclass']\n"
     ]
    }
   ],
   "source": [
    "# Get names of columns with missing values\n",
    "cols_with_missing = [col for col in X_train.columns if X_train[col].isnull().any()]\n",
    "print(\"cols with missing: \",cols_with_missing)\n",
    "object_cols = [col for col in X_train.columns if X_train[col].dtype == \"object\"]\n",
    "print(\"object cols: \",object_cols)\n",
    "object_nunique = list(map(lambda col: X_train[col].nunique(), object_cols))\n",
    "d = dict(zip(object_cols, object_nunique))\n",
    "print(\"no. of unique entries: \", d)\n",
    "low_cardinality_cols = [col for col in object_cols if X_train[col].nunique() < 10]\n",
    "high_cardinality_cols = list(set(object_cols)-set(low_cardinality_cols))\n",
    "print(\"low_cardinality_cols: \",low_cardinality_cols)\n",
    "print(\"high_cardinality_cols: \", high_cardinality_cols)\n",
    "numerical_cols= list(set(X_train.columns)-set(object_cols))\n",
    "print(\"numerical_cols\", numerical_cols)"
   ]
  },
  {
   "cell_type": "code",
   "execution_count": 6,
   "metadata": {},
   "outputs": [],
   "source": [
    "X_train= X_train.drop(high_cardinality_cols, axis=1)\n",
    "X_val= X_val.drop(high_cardinality_cols, axis=1)\n",
    "X_test= X_test.drop(high_cardinality_cols, axis=1)"
   ]
  },
  {
   "cell_type": "code",
   "execution_count": 7,
   "metadata": {},
   "outputs": [],
   "source": [
    "numerical_transformer = SimpleImputer(strategy='median')\n",
    "categorical_transformer = Pipeline(steps=[ ('imputer', SimpleImputer(strategy='most_frequent')),\n",
    "                                           ('onehot', OneHotEncoder(handle_unknown='ignore'))])\n",
    "preprocessor = ColumnTransformer(transformers=[('num', numerical_transformer, numerical_cols),\n",
    "                                                 ('cat', categorical_transformer, low_cardinality_cols)])"
   ]
  },
  {
   "cell_type": "code",
   "execution_count": 8,
   "metadata": {},
   "outputs": [
    {
     "name": "stdout",
     "output_type": "stream",
     "text": [
      "LR  :  0.7537313432835822\n",
      "LDA  :  0.753731343283582\n",
      "KNN  :  0.7873134328358209\n",
      "CART  :  0.6753731343283582\n",
      "NB  :  0.7686567164179103\n",
      "SVM  :  0.7835820895522388\n"
     ]
    }
   ],
   "source": [
    "models=[]\n",
    "results=[]\n",
    "names=[]\n",
    "models.append(('LR', LogisticRegression()))\n",
    "models.append(('LDA', LinearDiscriminantAnalysis()))\n",
    "models.append(('KNN', KNeighborsClassifier()))\n",
    "models.append(('CART', DecisionTreeClassifier()))\n",
    "models.append(('NB', GaussianNB()))\n",
    "models.append(('SVM', SVC()))\n",
    "for name, model in models:\n",
    "    my_pipeline = Pipeline(steps=[('preprocessor', preprocessor), ('standardize', StandardScaler()) ,('model', model)])\n",
    "    my_pipeline.fit(X_train, Y_train)\n",
    "    score = cross_val_score(my_pipeline, X_val, Y_val, cv=4, scoring='accuracy')\n",
    "    names.append(name)\n",
    "    results.append(score.mean())\n",
    "    print(name,\" : \",score.mean())"
   ]
  },
  {
   "cell_type": "code",
   "execution_count": 9,
   "metadata": {},
   "outputs": [
    {
     "data": {
      "text/plain": [
       "<AxesSubplot:>"
      ]
     },
     "execution_count": 9,
     "metadata": {},
     "output_type": "execute_result"
    },
    {
     "data": {
      "image/png": "[encoded data removed]",
      "text/plain": [
       "<Figure size 432x288 with 1 Axes>"
      ]
     },
     "metadata": {
      "needs_background": "light"
     },
     "output_type": "display_data"
    }
   ],
   "source": [
    "sns.barplot(x=names, y=results)"
   ]
  },
  {
   "cell_type": "code",
   "execution_count": 10,
   "metadata": {
    "scrolled": true
   },
   "outputs": [
    {
     "name": "stdout",
     "output_type": "stream",
     "text": [
      "             Pclass     Sex   Age  SibSp  Parch     Fare Embarked\n",
      "PassengerId                                                      \n",
      "115               3  female  17.0      0      0  14.4583        C\n",
      "875               2  female  28.0      1      0  24.0000        C\n",
      "77                3    male   NaN      0      0   7.8958        S\n",
      "877               3    male  20.0      0      0   9.8458        S\n",
      "675               2    male   NaN      0      0   0.0000        S\n"
     ]
    }
   ],
   "source": [
    "print(X_train.head())"
   ]
  },
  {
   "cell_type": "code",
   "execution_count": 11,
   "metadata": {},
   "outputs": [
    {
     "name": "stdout",
     "output_type": "stream",
     "text": [
      "Best: 0.841077 using {'n_neighbors': 15}\n",
      "0.768879 (0.025872) with: {'n_neighbors': 1}\n",
      "0.816998 (0.013450) with: {'n_neighbors': 3}\n",
      "0.828246 (0.013919) with: {'n_neighbors': 5}\n",
      "0.829828 (0.010116) with: {'n_neighbors': 7}\n",
      "0.833044 (0.013878) with: {'n_neighbors': 9}\n",
      "0.834646 (0.011814) with: {'n_neighbors': 11}\n",
      "0.839464 (0.008308) with: {'n_neighbors': 13}\n",
      "0.841077 (0.015435) with: {'n_neighbors': 15}\n",
      "0.836280 (0.021467) with: {'n_neighbors': 17}\n",
      "0.825041 (0.010477) with: {'n_neighbors': 19}\n",
      "0.823439 (0.013156) with: {'n_neighbors': 21}\n"
     ]
    }
   ],
   "source": [
    "# tuning knn\n",
    "k_values = numpy.array([1,3,5,7,9,11,13,15,17,19,21])\n",
    "param_grid = dict(n_neighbors=k_values)\n",
    "tune_X_train= preprocessor.fit_transform(X_train)\n",
    "tune_X_val= preprocessor.transform(X_val)\n",
    "tune_X_train= StandardScaler().fit_transform(tune_X_train)\n",
    "tune_X_val= StandardScaler().fit_transform(tune_X_val)\n",
    "model = KNeighborsClassifier()\n",
    "grid = GridSearchCV(estimator=model, param_grid=param_grid, scoring='accuracy', cv=4)\n",
    "grid_result = grid.fit(tune_X_train, Y_train)\n",
    "print(\"Best: %f using %s\" % (grid_result.best_score_, grid_result.best_params_))\n",
    "means = grid_result.cv_results_['mean_test_score']\n",
    "stds = grid_result.cv_results_['std_test_score']\n",
    "params = grid_result.cv_results_['params']\n",
    "for mean, stdev, param in zip(means, stds, params):\n",
    "    print(\"%f (%f) with: %r\" % (mean, stdev, param))\n"
   ]
  },
  {
   "cell_type": "code",
   "execution_count": 12,
   "metadata": {},
   "outputs": [
    {
     "name": "stdout",
     "output_type": "stream",
     "text": [
      "0.75\n"
     ]
    }
   ],
   "source": [
    "model=KNeighborsClassifier(n_neighbors=15)\n",
    "score=cross_val_score(model, tune_X_val, Y_val, cv=4, scoring='accuracy')\n",
    "print(score.mean())"
   ]
  },
  {
   "cell_type": "code",
   "execution_count": 13,
   "metadata": {},
   "outputs": [
    {
     "name": "stdout",
     "output_type": "stream",
     "text": [
      "Best: 0.850693 using {'C': 2.0, 'kernel': 'rbf'}\n",
      "0.799349 (0.020040) with: {'C': 0.1, 'kernel': 'linear'}\n",
      "0.776840 (0.027745) with: {'C': 0.1, 'kernel': 'poly'}\n",
      "0.813792 (0.029448) with: {'C': 0.1, 'kernel': 'rbf'}\n",
      "0.802554 (0.019574) with: {'C': 0.1, 'kernel': 'sigmoid'}\n",
      "0.799349 (0.020040) with: {'C': 0.3, 'kernel': 'linear'}\n",
      "0.820203 (0.010534) with: {'C': 0.3, 'kernel': 'poly'}\n",
      "0.825000 (0.038231) with: {'C': 0.3, 'kernel': 'rbf'}\n",
      "0.760866 (0.016141) with: {'C': 0.3, 'kernel': 'sigmoid'}\n",
      "0.799349 (0.020040) with: {'C': 0.5, 'kernel': 'linear'}\n",
      "0.834636 (0.024825) with: {'C': 0.5, 'kernel': 'poly'}\n",
      "0.828205 (0.041849) with: {'C': 0.5, 'kernel': 'rbf'}\n",
      "0.739992 (0.020727) with: {'C': 0.5, 'kernel': 'sigmoid'}\n",
      "0.799349 (0.020040) with: {'C': 0.7, 'kernel': 'linear'}\n",
      "0.828205 (0.028394) with: {'C': 0.7, 'kernel': 'poly'}\n",
      "0.828174 (0.041291) with: {'C': 0.7, 'kernel': 'rbf'}\n",
      "0.704725 (0.026916) with: {'C': 0.7, 'kernel': 'sigmoid'}\n",
      "0.799349 (0.020040) with: {'C': 0.9, 'kernel': 'linear'}\n",
      "0.829808 (0.029170) with: {'C': 0.9, 'kernel': 'poly'}\n",
      "0.844272 (0.025587) with: {'C': 0.9, 'kernel': 'rbf'}\n",
      "0.709522 (0.024845) with: {'C': 0.9, 'kernel': 'sigmoid'}\n",
      "0.799349 (0.020040) with: {'C': 1.0, 'kernel': 'linear'}\n",
      "0.831410 (0.030856) with: {'C': 1.0, 'kernel': 'poly'}\n",
      "0.849090 (0.028999) with: {'C': 1.0, 'kernel': 'rbf'}\n",
      "0.693486 (0.027051) with: {'C': 1.0, 'kernel': 'sigmoid'}\n",
      "0.799349 (0.020040) with: {'C': 1.3, 'kernel': 'linear'}\n",
      "0.820182 (0.036780) with: {'C': 1.3, 'kernel': 'poly'}\n",
      "0.847488 (0.026725) with: {'C': 1.3, 'kernel': 'rbf'}\n",
      "0.698284 (0.020104) with: {'C': 1.3, 'kernel': 'sigmoid'}\n",
      "0.799349 (0.020040) with: {'C': 1.5, 'kernel': 'linear'}\n",
      "0.821805 (0.032944) with: {'C': 1.5, 'kernel': 'poly'}\n",
      "0.849090 (0.024798) with: {'C': 1.5, 'kernel': 'rbf'}\n",
      "0.691873 (0.026969) with: {'C': 1.5, 'kernel': 'sigmoid'}\n",
      "0.799349 (0.020040) with: {'C': 1.7, 'kernel': 'linear'}\n",
      "0.821795 (0.027956) with: {'C': 1.7, 'kernel': 'poly'}\n",
      "0.849090 (0.024798) with: {'C': 1.7, 'kernel': 'rbf'}\n",
      "0.703091 (0.026137) with: {'C': 1.7, 'kernel': 'sigmoid'}\n",
      "0.799349 (0.020040) with: {'C': 2.0, 'kernel': 'linear'}\n",
      "0.821805 (0.028961) with: {'C': 2.0, 'kernel': 'poly'}\n",
      "0.850693 (0.023044) with: {'C': 2.0, 'kernel': 'rbf'}\n",
      "0.691873 (0.026969) with: {'C': 2.0, 'kernel': 'sigmoid'}\n"
     ]
    }
   ],
   "source": [
    "c_values = [0.1, 0.3, 0.5, 0.7, 0.9, 1.0, 1.3, 1.5, 1.7, 2.0]\n",
    "kernel_values = ['linear', 'poly', 'rbf', 'sigmoid']\n",
    "param_grid = dict(C=c_values, kernel=kernel_values)\n",
    "model = SVC()\n",
    "grid = GridSearchCV(estimator=model, param_grid=param_grid, scoring='accuracy', cv=4)\n",
    "grid_result = grid.fit(tune_X_train, Y_train)\n",
    "print(\"Best: %f using %s\" % (grid_result.best_score_, grid_result.best_params_))\n",
    "means = grid_result.cv_results_['mean_test_score']\n",
    "stds = grid_result.cv_results_['std_test_score']\n",
    "params = grid_result.cv_results_['params']\n",
    "for mean, stdev, param in zip(means, stds, params):\n",
    "    print(\"%f (%f) with: %r\" % (mean, stdev, param))"
   ]
  },
  {
   "cell_type": "code",
   "execution_count": 14,
   "metadata": {
    "scrolled": true
   },
   "outputs": [
    {
     "name": "stdout",
     "output_type": "stream",
     "text": [
      "0.7798507462686568\n"
     ]
    }
   ],
   "source": [
    "model=SVC(C=1.0, kernel='rbf')\n",
    "score=cross_val_score(model, tune_X_val, Y_val, cv=4, scoring='accuracy')\n",
    "print(score.mean())"
   ]
  },
  {
   "cell_type": "code",
   "execution_count": 15,
   "metadata": {},
   "outputs": [],
   "source": [
    "my_pipeline = Pipeline(steps=[('preprocessor', preprocessor), ('standardize', StandardScaler()) ,('model', model)])"
   ]
  },
  {
   "cell_type": "code",
   "execution_count": 16,
   "metadata": {},
   "outputs": [
    {
     "data": {
      "text/plain": [
       "Pipeline(steps=[('preprocessor',\n",
       "                 ColumnTransformer(transformers=[('num',\n",
       "                                                  SimpleImputer(strategy='median'),\n",
       "                                                  ['Parch', 'SibSp', 'Fare',\n",
       "                                                   'Age', 'Pclass']),\n",
       "                                                 ('cat',\n",
       "                                                  Pipeline(steps=[('imputer',\n",
       "                                                                   SimpleImputer(strategy='most_frequent')),\n",
       "                                                                  ('onehot',\n",
       "                                                                   OneHotEncoder(handle_unknown='ignore'))]),\n",
       "                                                  ['Sex', 'Embarked'])])),\n",
       "                ('standardize', StandardScaler()), ('model', SVC())])"
      ]
     },
     "execution_count": 16,
     "metadata": {},
     "output_type": "execute_result"
    }
   ],
   "source": [
    "my_pipeline.fit(X_train, Y_train)"
   ]
  },
  {
   "cell_type": "code",
   "execution_count": 17,
   "metadata": {},
   "outputs": [
    {
     "name": "stdout",
     "output_type": "stream",
     "text": [
      "0.7798507462686568\n"
     ]
    }
   ],
   "source": [
    "score=cross_val_score(model, tune_X_val, Y_val, cv=4, scoring='accuracy')\n",
    "print(score.mean())"
   ]
  },
  {
   "cell_type": "code",
   "execution_count": 18,
   "metadata": {},
   "outputs": [],
   "source": [
    "Y_test=my_pipeline.predict(X_test)"
   ]
  },
  {
   "cell_type": "code",
   "execution_count": 19,
   "metadata": {},
   "outputs": [
    {
     "data": {
      "text/plain": [
       "dtype('int64')"
      ]
     },
     "execution_count": 19,
     "metadata": {},
     "output_type": "execute_result"
    }
   ],
   "source": [
    "Y_test.dtype\n"
   ]
  },
  {
   "cell_type": "code",
   "execution_count": 20,
   "metadata": {},
   "outputs": [],
   "source": [
    "# Save test predictions to file\n",
    "output = pd.DataFrame({'PassengerId': X_test.index,\n",
    "                       'Survived': Y_test})\n",
    "output.to_csv('submission.csv', index=False)"
   ]
  },
  {
   "cell_type": "code",
   "execution_count": null,
   "metadata": {},
   "outputs": [],
   "source": []
  }
 ],
 "metadata": {
  "kernelspec": {
   "display_name": "Python 3",
   "language": "python",
   "name": "python3"
  },
  "language_info": {
   "codemirror_mode": {
    "name": "ipython",
    "version": 3
   },
   "file_extension": ".py",
   "mimetype": "text/x-python",
   "name": "python",
   "nbconvert_exporter": "python",
   "pygments_lexer": "ipython3",
   "version": "3.8.5"
  }
 },
 "nbformat": 4,
 "nbformat_minor": 4
}
