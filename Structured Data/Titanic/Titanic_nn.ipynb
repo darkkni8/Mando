{
 "cells": [
  {
   "cell_type": "code",
   "execution_count": 6,
   "metadata": {},
   "outputs": [
    {
     "name": "stdout",
     "output_type": "stream",
     "text": [
      "             Pclass                                               Name  \\\n",
      "PassengerId                                                              \n",
      "1                 3                            Braund, Mr. Owen Harris   \n",
      "2                 1  Cumings, Mrs. John Bradley (Florence Briggs Th...   \n",
      "3                 3                             Heikkinen, Miss. Laina   \n",
      "4                 1       Futrelle, Mrs. Jacques Heath (Lily May Peel)   \n",
      "5                 3                           Allen, Mr. William Henry   \n",
      "\n",
      "                Sex   Age  SibSp  Parch            Ticket     Fare Cabin  \\\n",
      "PassengerId                                                                \n",
      "1              male  22.0      1      0         A/5 21171   7.2500   NaN   \n",
      "2            female  38.0      1      0          PC 17599  71.2833   C85   \n",
      "3            female  26.0      0      0  STON/O2. 3101282   7.9250   NaN   \n",
      "4            female  35.0      1      0            113803  53.1000  C123   \n",
      "5              male  35.0      0      0            373450   8.0500   NaN   \n",
      "\n",
      "            Embarked  \n",
      "PassengerId           \n",
      "1                  S  \n",
      "2                  C  \n",
      "3                  S  \n",
      "4                  S  \n",
      "5                  S  \n",
      "cols with missing:  ['Age', 'Cabin', 'Embarked']\n",
      "object cols:  ['Name', 'Sex', 'Ticket', 'Cabin', 'Embarked']\n",
      "no. of unique entries:  {'Name': 891, 'Sex': 2, 'Ticket': 681, 'Cabin': 147, 'Embarked': 3}\n",
      "low_cardinality_cols:  ['Sex', 'Embarked']\n",
      "high_cardinality_cols:  ['Cabin', 'Ticket', 'Name']\n",
      "numerical_cols ['Fare', 'Age', 'Parch', 'Pclass', 'SibSp']\n",
      "             Pclass     Sex   Age  SibSp  Parch     Fare Embarked\n",
      "PassengerId                                                      \n",
      "1                 3    male  22.0      1      0   7.2500        S\n",
      "2                 1  female  38.0      1      0  71.2833        C\n",
      "3                 3  female  26.0      0      0   7.9250        S\n",
      "4                 1  female  35.0      1      0  53.1000        S\n",
      "5                 3    male  35.0      0      0   8.0500        S\n",
      "...             ...     ...   ...    ...    ...      ...      ...\n",
      "887               2    male  27.0      0      0  13.0000        S\n",
      "888               1  female  19.0      0      0  30.0000        S\n",
      "889               3  female   NaN      1      2  23.4500        S\n",
      "890               1    male  26.0      0      0  30.0000        C\n",
      "891               3    male  32.0      0      0   7.7500        Q\n",
      "\n",
      "[891 rows x 7 columns]\n",
      "                    0             1         2         3         4         5  \\\n",
      "PassengerId                                                                   \n",
      "1           -0.502445 -5.924806e-01 -0.473674  0.827377  0.432793 -0.737695   \n",
      "2            0.786845  6.387890e-01 -0.473674 -1.566107  0.432793  1.355574   \n",
      "3           -0.488854 -2.846632e-01 -0.473674  0.827377 -0.474545  1.355574   \n",
      "4            0.420730  4.079260e-01 -0.473674 -1.566107  0.432793  1.355574   \n",
      "5           -0.486337  4.079260e-01 -0.473674  0.827377 -0.474545 -0.737695   \n",
      "...               ...           ...       ...       ...       ...       ...   \n",
      "887         -0.386671 -2.077088e-01 -0.473674 -0.369365 -0.474545 -0.737695   \n",
      "888         -0.044381 -8.233437e-01 -0.473674 -1.566107 -0.474545  1.355574   \n",
      "889         -0.176263  4.374348e-15  2.008933  0.827377  0.432793  1.355574   \n",
      "890         -0.044381 -2.846632e-01 -0.473674 -1.566107 -0.474545 -0.737695   \n",
      "891         -0.492378  1.770629e-01 -0.473674  0.827377 -0.474545 -0.737695   \n",
      "\n",
      "                    6         7         8         9  \n",
      "PassengerId                                          \n",
      "1            0.737695 -0.482043 -0.307562  0.615838  \n",
      "2           -1.355574  2.074505 -0.307562 -1.623803  \n",
      "3           -1.355574 -0.482043 -0.307562  0.615838  \n",
      "4           -1.355574 -0.482043 -0.307562  0.615838  \n",
      "5            0.737695 -0.482043 -0.307562  0.615838  \n",
      "...               ...       ...       ...       ...  \n",
      "887          0.737695 -0.482043 -0.307562  0.615838  \n",
      "888         -1.355574 -0.482043 -0.307562  0.615838  \n",
      "889         -1.355574 -0.482043 -0.307562  0.615838  \n",
      "890          0.737695  2.074505 -0.307562 -1.623803  \n",
      "891          0.737695 -0.482043  3.251373 -1.623803  \n",
      "\n",
      "[891 rows x 10 columns]\n",
      "             Pclass     Sex   Age  SibSp  Parch      Fare Embarked\n",
      "PassengerId                                                       \n",
      "892               3    male  34.5      0      0    7.8292        Q\n",
      "893               3  female  47.0      1      0    7.0000        S\n",
      "894               2    male  62.0      0      0    9.6875        Q\n",
      "895               3    male  27.0      0      0    8.6625        S\n",
      "896               3  female  22.0      1      1   12.2875        S\n",
      "...             ...     ...   ...    ...    ...       ...      ...\n",
      "1305              3    male   NaN      0      0    8.0500        S\n",
      "1306              1  female  39.0      0      0  108.9000        C\n",
      "1307              3    male  38.5      0      0    7.2500        S\n",
      "1308              3    male   NaN      0      0    8.0500        S\n",
      "1309              3    male   NaN      1      1   22.3583        C\n",
      "\n",
      "[418 rows x 7 columns]\n",
      "                    0             1         2         3         4         5  \\\n",
      "PassengerId                                                                   \n",
      "892         -0.498407  3.349926e-01 -0.400248  0.873482 -0.499470 -0.755929   \n",
      "893         -0.513274  1.325530e+00 -0.400248  0.873482  0.616992  1.322876   \n",
      "894         -0.465088  2.514175e+00 -0.400248 -0.315819 -0.499470 -0.755929   \n",
      "895         -0.483466 -2.593299e-01 -0.400248  0.873482 -0.499470 -0.755929   \n",
      "896         -0.418471 -6.555448e-01  0.619896  0.873482  0.616992  1.322876   \n",
      "...               ...           ...       ...       ...       ...       ...   \n",
      "1305        -0.494448 -2.533749e-15 -0.400248  0.873482 -0.499470 -0.755929   \n",
      "1306         1.313753  6.915861e-01 -0.400248 -1.505120 -0.499470  1.322876   \n",
      "1307        -0.508792  6.519646e-01 -0.400248  0.873482 -0.499470 -0.755929   \n",
      "1308        -0.494448 -2.533749e-15 -0.400248  0.873482 -0.499470 -0.755929   \n",
      "1309        -0.237906 -2.533749e-15  0.619896  0.873482  0.616992 -0.755929   \n",
      "\n",
      "                    6         7         8         9  \n",
      "PassengerId                                          \n",
      "892          0.755929 -0.568142  2.843757 -1.350676  \n",
      "893         -1.322876 -0.568142 -0.351647  0.740370  \n",
      "894          0.755929 -0.568142  2.843757 -1.350676  \n",
      "895          0.755929 -0.568142 -0.351647  0.740370  \n",
      "896         -1.322876 -0.568142 -0.351647  0.740370  \n",
      "...               ...       ...       ...       ...  \n",
      "1305         0.755929 -0.568142 -0.351647  0.740370  \n",
      "1306        -1.322876  1.760125 -0.351647 -1.350676  \n",
      "1307         0.755929 -0.568142 -0.351647  0.740370  \n",
      "1308         0.755929 -0.568142 -0.351647  0.740370  \n",
      "1309         0.755929  1.760125 -0.351647 -1.350676  \n",
      "\n",
      "[418 rows x 10 columns]\n"
     ]
    },
    {
     "ename": "TypeError",
     "evalue": "'dict' object is not callable",
     "output_type": "error",
     "traceback": [
      "\u001b[0;31m---------------------------------------------------------------------------\u001b[0m",
      "\u001b[0;31mTypeError\u001b[0m                                 Traceback (most recent call last)",
      "\u001b[0;32m<ipython-input-6-9ddec96bb6f6>\u001b[0m in \u001b[0;36m<module>\u001b[0;34m\u001b[0m\n\u001b[1;32m     20\u001b[0m \u001b[0;32mfrom\u001b[0m \u001b[0msklearn\u001b[0m\u001b[0;34m.\u001b[0m\u001b[0msvm\u001b[0m \u001b[0;32mimport\u001b[0m \u001b[0mSVC\u001b[0m\u001b[0;34m\u001b[0m\u001b[0;34m\u001b[0m\u001b[0m\n\u001b[1;32m     21\u001b[0m \u001b[0;32mfrom\u001b[0m \u001b[0msklearn\u001b[0m\u001b[0;34m.\u001b[0m\u001b[0mmodel_selection\u001b[0m \u001b[0;32mimport\u001b[0m \u001b[0mGridSearchCV\u001b[0m\u001b[0;34m\u001b[0m\u001b[0;34m\u001b[0m\u001b[0m\n\u001b[0;32m---> 22\u001b[0;31m \u001b[0;32mimport\u001b[0m \u001b[0mL_Layer_NN\u001b[0m \u001b[0;32mas\u001b[0m \u001b[0mnn\u001b[0m\u001b[0;34m\u001b[0m\u001b[0;34m\u001b[0m\u001b[0m\n\u001b[0m",
      "\u001b[0;32m~/Documents/Datasets/Titanic/L_Layer_NN.py\u001b[0m in \u001b[0;36m<module>\u001b[0;34m\u001b[0m\n\u001b[1;32m    354\u001b[0m \u001b[0;34m\u001b[0m\u001b[0m\n\u001b[1;32m    355\u001b[0m \u001b[0;34m\u001b[0m\u001b[0m\n\u001b[0;32m--> 356\u001b[0;31m \u001b[0mparameters\u001b[0m \u001b[0;34m=\u001b[0m \u001b[0mL_layer_model\u001b[0m\u001b[0;34m(\u001b[0m\u001b[0mX_train\u001b[0m\u001b[0;34m,\u001b[0m \u001b[0mY_train\u001b[0m\u001b[0;34m,\u001b[0m \u001b[0mlayers_dims\u001b[0m\u001b[0;34m,\u001b[0m \u001b[0mnum_iterations\u001b[0m \u001b[0;34m=\u001b[0m \u001b[0;36m2500\u001b[0m\u001b[0;34m,\u001b[0m \u001b[0mprint_cost\u001b[0m \u001b[0;34m=\u001b[0m \u001b[0;32mTrue\u001b[0m\u001b[0;34m)\u001b[0m\u001b[0;34m\u001b[0m\u001b[0;34m\u001b[0m\u001b[0m\n\u001b[0m\u001b[1;32m    357\u001b[0m \u001b[0;34m\u001b[0m\u001b[0m\n\u001b[1;32m    358\u001b[0m \u001b[0;34m\u001b[0m\u001b[0m\n",
      "\u001b[0;32m~/Documents/Datasets/Titanic/L_Layer_NN.py\u001b[0m in \u001b[0;36mL_layer_model\u001b[0;34m(X, Y, layers_dims, learning_rate, num_iterations, print_cost)\u001b[0m\n\u001b[1;32m    335\u001b[0m \u001b[0;34m\u001b[0m\u001b[0m\n\u001b[1;32m    336\u001b[0m     \u001b[0;32mfor\u001b[0m \u001b[0mi\u001b[0m \u001b[0;32min\u001b[0m \u001b[0mrange\u001b[0m\u001b[0;34m(\u001b[0m\u001b[0;36m0\u001b[0m\u001b[0;34m,\u001b[0m \u001b[0mnum_iterations\u001b[0m\u001b[0;34m)\u001b[0m\u001b[0;34m:\u001b[0m\u001b[0;34m\u001b[0m\u001b[0;34m\u001b[0m\u001b[0m\n\u001b[0;32m--> 337\u001b[0;31m         \u001b[0mAL\u001b[0m\u001b[0;34m,\u001b[0m \u001b[0mcaches\u001b[0m \u001b[0;34m=\u001b[0m \u001b[0mL_model_forward\u001b[0m\u001b[0;34m(\u001b[0m\u001b[0mX\u001b[0m\u001b[0;34m,\u001b[0m \u001b[0mparameters\u001b[0m\u001b[0;34m)\u001b[0m\u001b[0;34m\u001b[0m\u001b[0;34m\u001b[0m\u001b[0m\n\u001b[0m\u001b[1;32m    338\u001b[0m         \u001b[0mcost\u001b[0m \u001b[0;34m=\u001b[0m \u001b[0mcompute_cost\u001b[0m\u001b[0;34m(\u001b[0m\u001b[0mAL\u001b[0m\u001b[0;34m,\u001b[0m \u001b[0mY\u001b[0m\u001b[0;34m)\u001b[0m\u001b[0;34m\u001b[0m\u001b[0;34m\u001b[0m\u001b[0m\n\u001b[1;32m    339\u001b[0m         \u001b[0mgrads\u001b[0m \u001b[0;34m=\u001b[0m \u001b[0mL_model_backward\u001b[0m\u001b[0;34m(\u001b[0m\u001b[0mAL\u001b[0m\u001b[0;34m,\u001b[0m \u001b[0mY\u001b[0m\u001b[0;34m,\u001b[0m \u001b[0mcaches\u001b[0m\u001b[0;34m)\u001b[0m\u001b[0;34m\u001b[0m\u001b[0;34m\u001b[0m\u001b[0m\n",
      "\u001b[0;32m~/Documents/Datasets/Titanic/L_Layer_NN.py\u001b[0m in \u001b[0;36mL_model_forward\u001b[0;34m(X, parameters)\u001b[0m\n\u001b[1;32m     74\u001b[0m     \u001b[0;32mfor\u001b[0m \u001b[0mi\u001b[0m \u001b[0;32min\u001b[0m \u001b[0mrange\u001b[0m\u001b[0;34m(\u001b[0m\u001b[0;36m1\u001b[0m\u001b[0;34m,\u001b[0m\u001b[0mL\u001b[0m\u001b[0;34m)\u001b[0m\u001b[0;34m:\u001b[0m\u001b[0;34m\u001b[0m\u001b[0;34m\u001b[0m\u001b[0m\n\u001b[1;32m     75\u001b[0m         \u001b[0mA_prev\u001b[0m\u001b[0;34m=\u001b[0m \u001b[0mA\u001b[0m\u001b[0;34m\u001b[0m\u001b[0;34m\u001b[0m\u001b[0m\n\u001b[0;32m---> 76\u001b[0;31m         \u001b[0mA\u001b[0m\u001b[0;34m,\u001b[0m \u001b[0mcache\u001b[0m\u001b[0;34m=\u001b[0m \u001b[0mlinear_activation_forward\u001b[0m\u001b[0;34m(\u001b[0m\u001b[0mA_prev\u001b[0m\u001b[0;34m,\u001b[0m \u001b[0mparameters\u001b[0m\u001b[0;34m(\u001b[0m\u001b[0;34m'W'\u001b[0m\u001b[0;34m+\u001b[0m\u001b[0mstr\u001b[0m\u001b[0;34m(\u001b[0m\u001b[0mi\u001b[0m\u001b[0;34m)\u001b[0m\u001b[0;34m)\u001b[0m\u001b[0;34m,\u001b[0m \u001b[0mparameters\u001b[0m\u001b[0;34m(\u001b[0m\u001b[0;34m'b'\u001b[0m\u001b[0;34m+\u001b[0m\u001b[0mstr\u001b[0m\u001b[0;34m(\u001b[0m\u001b[0mi\u001b[0m\u001b[0;34m)\u001b[0m\u001b[0;34m)\u001b[0m\u001b[0;34m,\u001b[0m \u001b[0mactivation\u001b[0m\u001b[0;34m=\u001b[0m\u001b[0;34m\"relu\"\u001b[0m\u001b[0;34m)\u001b[0m\u001b[0;34m\u001b[0m\u001b[0;34m\u001b[0m\u001b[0m\n\u001b[0m\u001b[1;32m     77\u001b[0m         \u001b[0mcaches\u001b[0m\u001b[0;34m.\u001b[0m\u001b[0mappend\u001b[0m\u001b[0;34m(\u001b[0m\u001b[0mcache\u001b[0m\u001b[0;34m)\u001b[0m\u001b[0;34m\u001b[0m\u001b[0;34m\u001b[0m\u001b[0m\n\u001b[1;32m     78\u001b[0m     \u001b[0mAL\u001b[0m\u001b[0;34m,\u001b[0m\u001b[0mcache\u001b[0m\u001b[0;34m=\u001b[0m \u001b[0mlinear_activation_forward\u001b[0m\u001b[0;34m(\u001b[0m\u001b[0mA\u001b[0m\u001b[0;34m,\u001b[0m \u001b[0mparameters\u001b[0m\u001b[0;34m(\u001b[0m\u001b[0;34m'W'\u001b[0m\u001b[0;34m+\u001b[0m\u001b[0mstr\u001b[0m\u001b[0;34m(\u001b[0m\u001b[0mL\u001b[0m\u001b[0;34m)\u001b[0m\u001b[0;34m)\u001b[0m\u001b[0;34m,\u001b[0m \u001b[0mparameters\u001b[0m\u001b[0;34m(\u001b[0m\u001b[0;34m'b'\u001b[0m\u001b[0;34m+\u001b[0m\u001b[0mstr\u001b[0m\u001b[0;34m(\u001b[0m\u001b[0mL\u001b[0m\u001b[0;34m)\u001b[0m\u001b[0;34m)\u001b[0m\u001b[0;34m,\u001b[0m \u001b[0mactivation\u001b[0m\u001b[0;34m=\u001b[0m\u001b[0;34m\"sigmoid\"\u001b[0m\u001b[0;34m)\u001b[0m\u001b[0;34m\u001b[0m\u001b[0;34m\u001b[0m\u001b[0m\n",
      "\u001b[0;31mTypeError\u001b[0m: 'dict' object is not callable"
     ]
    }
   ],
   "source": [
    "import pandas as pd\n",
    "import numpy as np\n",
    "from sklearn.preprocessing import OneHotEncoder\n",
    "from sklearn.impute import SimpleImputer\n",
    "from sklearn.model_selection import train_test_split\n",
    "pd.plotting.register_matplotlib_converters()\n",
    "import matplotlib.pyplot as plt\n",
    "%matplotlib inline\n",
    "import seaborn as sns\n",
    "from sklearn.compose import ColumnTransformer\n",
    "from sklearn.pipeline import Pipeline\n",
    "from sklearn.metrics import mean_absolute_error\n",
    "from sklearn.model_selection import cross_val_score\n",
    "from sklearn.preprocessing import StandardScaler\n",
    "from sklearn.linear_model import LogisticRegression\n",
    "from sklearn.discriminant_analysis import LinearDiscriminantAnalysis\n",
    "from sklearn.neighbors import KNeighborsClassifier\n",
    "from sklearn.naive_bayes import GaussianNB\n",
    "from sklearn.tree import DecisionTreeClassifier\n",
    "from sklearn.svm import SVC\n",
    "from sklearn.model_selection import GridSearchCV\n",
    "import L_Layer_NN as nn"
   ]
  },
  {
   "cell_type": "code",
   "execution_count": 2,
   "metadata": {},
   "outputs": [],
   "source": [
    "data= 'titanic_train.csv'\n",
    "test_data=\"titanic_test.csv\""
   ]
  },
  {
   "cell_type": "code",
   "execution_count": 3,
   "metadata": {},
   "outputs": [
    {
     "name": "stdout",
     "output_type": "stream",
     "text": [
      "             Pclass                                               Name  \\\n",
      "PassengerId                                                              \n",
      "1                 3                            Braund, Mr. Owen Harris   \n",
      "2                 1  Cumings, Mrs. John Bradley (Florence Briggs Th...   \n",
      "3                 3                             Heikkinen, Miss. Laina   \n",
      "4                 1       Futrelle, Mrs. Jacques Heath (Lily May Peel)   \n",
      "5                 3                           Allen, Mr. William Henry   \n",
      "\n",
      "                Sex   Age  SibSp  Parch            Ticket     Fare Cabin  \\\n",
      "PassengerId                                                                \n",
      "1              male  22.0      1      0         A/5 21171   7.2500   NaN   \n",
      "2            female  38.0      1      0          PC 17599  71.2833   C85   \n",
      "3            female  26.0      0      0  STON/O2. 3101282   7.9250   NaN   \n",
      "4            female  35.0      1      0            113803  53.1000  C123   \n",
      "5              male  35.0      0      0            373450   8.0500   NaN   \n",
      "\n",
      "            Embarked  \n",
      "PassengerId           \n",
      "1                  S  \n",
      "2                  C  \n",
      "3                  S  \n",
      "4                  S  \n",
      "5                  S  \n"
     ]
    }
   ],
   "source": [
    "X= pd.read_csv(data, index_col='PassengerId')\n",
    "X_test=pd.read_csv(test_data, index_col=\"PassengerId\")\n",
    "Y= X.Survived\n",
    "X=X.drop(['Survived'], axis=1)\n",
    "print(X.head())"
   ]
  },
  {
   "cell_type": "code",
   "execution_count": 4,
   "metadata": {},
   "outputs": [
    {
     "name": "stdout",
     "output_type": "stream",
     "text": [
      "cols with missing:  ['Age', 'Cabin', 'Embarked']\n",
      "object cols:  ['Name', 'Sex', 'Ticket', 'Cabin', 'Embarked']\n",
      "no. of unique entries:  {'Name': 891, 'Sex': 2, 'Ticket': 681, 'Cabin': 147, 'Embarked': 3}\n",
      "low_cardinality_cols:  ['Sex', 'Embarked']\n",
      "high_cardinality_cols:  ['Ticket', 'Cabin', 'Name']\n",
      "numerical_cols ['SibSp', 'Parch', 'Age', 'Pclass', 'Fare']\n"
     ]
    }
   ],
   "source": [
    "# Get names of columns with missing values\n",
    "cols_with_missing = [col for col in X.columns if X[col].isnull().any()]\n",
    "print(\"cols with missing: \",cols_with_missing)\n",
    "object_cols = [col for col in X.columns if X[col].dtype == \"object\"]\n",
    "print(\"object cols: \",object_cols)\n",
    "object_nunique = list(map(lambda col: X[col].nunique(), object_cols))\n",
    "d = dict(zip(object_cols, object_nunique))\n",
    "print(\"no. of unique entries: \", d)\n",
    "low_cardinality_cols = [col for col in object_cols if X[col].nunique() < 10]\n",
    "high_cardinality_cols = list(set(object_cols)-set(low_cardinality_cols))\n",
    "print(\"low_cardinality_cols: \",low_cardinality_cols)\n",
    "print(\"high_cardinality_cols: \", high_cardinality_cols)\n",
    "numerical_cols= list(set(X.columns)-set(object_cols))\n",
    "print(\"numerical_cols\", numerical_cols)"
   ]
  },
  {
   "cell_type": "code",
   "execution_count": 5,
   "metadata": {},
   "outputs": [],
   "source": [
    "X= X.drop(high_cardinality_cols, axis=1)\n",
    "X_test= X_test.drop(high_cardinality_cols, axis=1)"
   ]
  },
  {
   "cell_type": "code",
   "execution_count": 6,
   "metadata": {},
   "outputs": [],
   "source": [
    "numerical_transformer = SimpleImputer(strategy='mean')\n",
    "categorical_transformer = Pipeline(steps=[ ('imputer', SimpleImputer(strategy='most_frequent')),\n",
    "                                           ('onehot', OneHotEncoder(handle_unknown='ignore'))])\n",
    "preprocessor = ColumnTransformer(transformers=[('num', numerical_transformer, numerical_cols),\n",
    "                                                 ('cat', categorical_transformer, low_cardinality_cols)])"
   ]
  },
  {
   "cell_type": "code",
   "execution_count": 7,
   "metadata": {},
   "outputs": [
    {
     "name": "stdout",
     "output_type": "stream",
     "text": [
      "             Pclass     Sex   Age  SibSp  Parch     Fare Embarked\n",
      "PassengerId                                                      \n",
      "1                 3    male  22.0      1      0   7.2500        S\n",
      "2                 1  female  38.0      1      0  71.2833        C\n",
      "3                 3  female  26.0      0      0   7.9250        S\n",
      "4                 1  female  35.0      1      0  53.1000        S\n",
      "5                 3    male  35.0      0      0   8.0500        S\n",
      "...             ...     ...   ...    ...    ...      ...      ...\n",
      "887               2    male  27.0      0      0  13.0000        S\n",
      "888               1  female  19.0      0      0  30.0000        S\n",
      "889               3  female   NaN      1      2  23.4500        S\n",
      "890               1    male  26.0      0      0  30.0000        C\n",
      "891               3    male  32.0      0      0   7.7500        Q\n",
      "\n",
      "[891 rows x 7 columns]\n",
      "                    0         1             2         3         4         5  \\\n",
      "PassengerId                                                                   \n",
      "1            0.432793 -0.473674 -5.924806e-01  0.827377 -0.502445 -0.737695   \n",
      "2            0.432793 -0.473674  6.387890e-01 -1.566107  0.786845  1.355574   \n",
      "3           -0.474545 -0.473674 -2.846632e-01  0.827377 -0.488854  1.355574   \n",
      "4            0.432793 -0.473674  4.079260e-01 -1.566107  0.420730  1.355574   \n",
      "5           -0.474545 -0.473674  4.079260e-01  0.827377 -0.486337 -0.737695   \n",
      "...               ...       ...           ...       ...       ...       ...   \n",
      "887         -0.474545 -0.473674 -2.077088e-01 -0.369365 -0.386671 -0.737695   \n",
      "888         -0.474545 -0.473674 -8.233437e-01 -1.566107 -0.044381  1.355574   \n",
      "889          0.432793  2.008933  4.374348e-15  0.827377 -0.176263  1.355574   \n",
      "890         -0.474545 -0.473674 -2.846632e-01 -1.566107 -0.044381 -0.737695   \n",
      "891         -0.474545 -0.473674  1.770629e-01  0.827377 -0.492378 -0.737695   \n",
      "\n",
      "                    6         7         8         9  \n",
      "PassengerId                                          \n",
      "1            0.737695 -0.482043 -0.307562  0.615838  \n",
      "2           -1.355574  2.074505 -0.307562 -1.623803  \n",
      "3           -1.355574 -0.482043 -0.307562  0.615838  \n",
      "4           -1.355574 -0.482043 -0.307562  0.615838  \n",
      "5            0.737695 -0.482043 -0.307562  0.615838  \n",
      "...               ...       ...       ...       ...  \n",
      "887          0.737695 -0.482043 -0.307562  0.615838  \n",
      "888         -1.355574 -0.482043 -0.307562  0.615838  \n",
      "889         -1.355574 -0.482043 -0.307562  0.615838  \n",
      "890          0.737695  2.074505 -0.307562 -1.623803  \n",
      "891          0.737695 -0.482043  3.251373 -1.623803  \n",
      "\n",
      "[891 rows x 10 columns]\n"
     ]
    }
   ],
   "source": [
    "X_transformed= preprocessor.fit_transform(X)\n",
    "X_transformed= pd.DataFrame(StandardScaler().fit_transform(X_transformed))\n",
    "X_transformed.index= X.index\n",
    "print(X)\n",
    "print(X_transformed)"
   ]
  },
  {
   "cell_type": "code",
   "execution_count": 8,
   "metadata": {},
   "outputs": [
    {
     "name": "stdout",
     "output_type": "stream",
     "text": [
      "             Pclass     Sex   Age  SibSp  Parch      Fare Embarked\n",
      "PassengerId                                                       \n",
      "892               3    male  34.5      0      0    7.8292        Q\n",
      "893               3  female  47.0      1      0    7.0000        S\n",
      "894               2    male  62.0      0      0    9.6875        Q\n",
      "895               3    male  27.0      0      0    8.6625        S\n",
      "896               3  female  22.0      1      1   12.2875        S\n",
      "...             ...     ...   ...    ...    ...       ...      ...\n",
      "1305              3    male   NaN      0      0    8.0500        S\n",
      "1306              1  female  39.0      0      0  108.9000        C\n",
      "1307              3    male  38.5      0      0    7.2500        S\n",
      "1308              3    male   NaN      0      0    8.0500        S\n",
      "1309              3    male   NaN      1      1   22.3583        C\n",
      "\n",
      "[418 rows x 7 columns]\n",
      "                    0         1             2         3         4         5  \\\n",
      "PassengerId                                                                   \n",
      "892         -0.499470 -0.400248  3.349926e-01  0.873482 -0.498407 -0.755929   \n",
      "893          0.616992 -0.400248  1.325530e+00  0.873482 -0.513274  1.322876   \n",
      "894         -0.499470 -0.400248  2.514175e+00 -0.315819 -0.465088 -0.755929   \n",
      "895         -0.499470 -0.400248 -2.593299e-01  0.873482 -0.483466 -0.755929   \n",
      "896          0.616992  0.619896 -6.555448e-01  0.873482 -0.418471  1.322876   \n",
      "...               ...       ...           ...       ...       ...       ...   \n",
      "1305        -0.499470 -0.400248 -2.533749e-15  0.873482 -0.494448 -0.755929   \n",
      "1306        -0.499470 -0.400248  6.915861e-01 -1.505120  1.313753  1.322876   \n",
      "1307        -0.499470 -0.400248  6.519646e-01  0.873482 -0.508792 -0.755929   \n",
      "1308        -0.499470 -0.400248 -2.533749e-15  0.873482 -0.494448 -0.755929   \n",
      "1309         0.616992  0.619896 -2.533749e-15  0.873482 -0.237906 -0.755929   \n",
      "\n",
      "                    6         7         8         9  \n",
      "PassengerId                                          \n",
      "892          0.755929 -0.568142  2.843757 -1.350676  \n",
      "893         -1.322876 -0.568142 -0.351647  0.740370  \n",
      "894          0.755929 -0.568142  2.843757 -1.350676  \n",
      "895          0.755929 -0.568142 -0.351647  0.740370  \n",
      "896         -1.322876 -0.568142 -0.351647  0.740370  \n",
      "...               ...       ...       ...       ...  \n",
      "1305         0.755929 -0.568142 -0.351647  0.740370  \n",
      "1306        -1.322876  1.760125 -0.351647 -1.350676  \n",
      "1307         0.755929 -0.568142 -0.351647  0.740370  \n",
      "1308         0.755929 -0.568142 -0.351647  0.740370  \n",
      "1309         0.755929  1.760125 -0.351647 -1.350676  \n",
      "\n",
      "[418 rows x 10 columns]\n"
     ]
    }
   ],
   "source": [
    "X_test_trans= preprocessor.fit_transform(X_test)\n",
    "X_test_trans= pd.DataFrame(StandardScaler().fit_transform(X_test_trans))\n",
    "X_test_trans.index= X_test.index\n",
    "print(X_test)\n",
    "print(X_test_trans)"
   ]
  },
  {
   "cell_type": "code",
   "execution_count": 9,
   "metadata": {},
   "outputs": [],
   "source": [
    "X_train, X_val, Y_train, Y_val= train_test_split(X_transformed, Y, test_size=0.3, random_state= 1)\n",
    "X_train=X_train.T\n",
    "X_val= X_val.T\n",
    "train_indices=Y_train.index\n",
    "val_indices=Y_val.index\n",
    "Y_train= np.array([Y_train])\n",
    "Y_val= np.array([Y_val])\n",
    "X_test= X_test.T"
   ]
  },
  {
   "cell_type": "code",
   "execution_count": 10,
   "metadata": {},
   "outputs": [],
   "source": [
    "### CONSTANTS ###\n",
    "layers_dims = [10, 6, 4, 1] "
   ]
  },
  {
   "cell_type": "code",
   "execution_count": 13,
   "metadata": {},
   "outputs": [],
   "source": [
    "def L_layer_model(X, Y, layers_dims, learning_rate = 0.0075, num_iterations = 3000, print_cost=False):\n",
    "    np.random.seed(1)\n",
    "    costs = []                      \n",
    "    parameters = nn.init_params(layers_dims)\n",
    "\n",
    "    for i in range(0, num_iterations):\n",
    "        AL, caches = nn.L_model_forward(X, parameters)\n",
    "        cost = nn.compute_cost(AL, Y)\n",
    "        grads = nn.L_model_backward(AL, Y, caches)\n",
    "        parameters = nn.update_parameters(parameters, grads, learning_rate)\n",
    "        if print_cost and i % 100 == 0:\n",
    "            print (\"Cost after iteration %i: %f\" %(i, cost))\n",
    "        if print_cost and i % 100 == 0:\n",
    "            costs.append(cost)\n",
    "    plt.plot(np.squeeze(costs))\n",
    "    plt.ylabel('cost')\n",
    "    plt.xlabel('iterations (per hundreds)')\n",
    "    plt.title(\"Learning rate =\" + str(learning_rate))\n",
    "    plt.show()\n",
    "    return parameters"
   ]
  },
  {
   "cell_type": "code",
   "execution_count": 14,
   "metadata": {},
   "outputs": [
    {
     "ename": "AssertionError",
     "evalue": "",
     "output_type": "error",
     "traceback": [
      "\u001b[0;31m---------------------------------------------------------------------------\u001b[0m",
      "\u001b[0;31mAssertionError\u001b[0m                            Traceback (most recent call last)",
      "\u001b[0;32m<ipython-input-14-b4e8371dc327>\u001b[0m in \u001b[0;36m<module>\u001b[0;34m\u001b[0m\n\u001b[0;32m----> 1\u001b[0;31m \u001b[0mparameters\u001b[0m \u001b[0;34m=\u001b[0m \u001b[0mL_layer_model\u001b[0m\u001b[0;34m(\u001b[0m\u001b[0mX_train\u001b[0m\u001b[0;34m,\u001b[0m \u001b[0mY_train\u001b[0m\u001b[0;34m,\u001b[0m \u001b[0mlayers_dims\u001b[0m\u001b[0;34m,\u001b[0m \u001b[0mnum_iterations\u001b[0m \u001b[0;34m=\u001b[0m \u001b[0;36m2500\u001b[0m\u001b[0;34m,\u001b[0m \u001b[0mprint_cost\u001b[0m \u001b[0;34m=\u001b[0m \u001b[0;32mTrue\u001b[0m\u001b[0;34m)\u001b[0m\u001b[0;34m\u001b[0m\u001b[0;34m\u001b[0m\u001b[0m\n\u001b[0m",
      "\u001b[0;32m<ipython-input-13-8166c46c42d2>\u001b[0m in \u001b[0;36mL_layer_model\u001b[0;34m(X, Y, layers_dims, learning_rate, num_iterations, print_cost)\u001b[0m\n\u001b[1;32m      2\u001b[0m     \u001b[0mnp\u001b[0m\u001b[0;34m.\u001b[0m\u001b[0mrandom\u001b[0m\u001b[0;34m.\u001b[0m\u001b[0mseed\u001b[0m\u001b[0;34m(\u001b[0m\u001b[0;36m1\u001b[0m\u001b[0;34m)\u001b[0m\u001b[0;34m\u001b[0m\u001b[0;34m\u001b[0m\u001b[0m\n\u001b[1;32m      3\u001b[0m     \u001b[0mcosts\u001b[0m \u001b[0;34m=\u001b[0m \u001b[0;34m[\u001b[0m\u001b[0;34m]\u001b[0m\u001b[0;34m\u001b[0m\u001b[0;34m\u001b[0m\u001b[0m\n\u001b[0;32m----> 4\u001b[0;31m     \u001b[0mparameters\u001b[0m \u001b[0;34m=\u001b[0m \u001b[0mnn\u001b[0m\u001b[0;34m.\u001b[0m\u001b[0minit_params\u001b[0m\u001b[0;34m(\u001b[0m\u001b[0mlayers_dims\u001b[0m\u001b[0;34m)\u001b[0m\u001b[0;34m\u001b[0m\u001b[0;34m\u001b[0m\u001b[0m\n\u001b[0m\u001b[1;32m      5\u001b[0m \u001b[0;34m\u001b[0m\u001b[0m\n\u001b[1;32m      6\u001b[0m     \u001b[0;32mfor\u001b[0m \u001b[0mi\u001b[0m \u001b[0;32min\u001b[0m \u001b[0mrange\u001b[0m\u001b[0;34m(\u001b[0m\u001b[0;36m0\u001b[0m\u001b[0;34m,\u001b[0m \u001b[0mnum_iterations\u001b[0m\u001b[0;34m)\u001b[0m\u001b[0;34m:\u001b[0m\u001b[0;34m\u001b[0m\u001b[0;34m\u001b[0m\u001b[0m\n",
      "\u001b[0;32m~/Documents/L_Layer_NN.py\u001b[0m in \u001b[0;36minit_params\u001b[0;34m(layer_dims)\u001b[0m\n\u001b[1;32m     18\u001b[0m         \u001b[0mparameters\u001b[0m\u001b[0;34m[\u001b[0m\u001b[0;34m'W'\u001b[0m\u001b[0;34m+\u001b[0m\u001b[0mstr\u001b[0m\u001b[0;34m(\u001b[0m\u001b[0mi\u001b[0m\u001b[0;34m)\u001b[0m\u001b[0;34m]\u001b[0m\u001b[0;34m=\u001b[0m\u001b[0mnp\u001b[0m\u001b[0;34m.\u001b[0m\u001b[0mrandom\u001b[0m\u001b[0;34m.\u001b[0m\u001b[0mrandn\u001b[0m\u001b[0;34m(\u001b[0m\u001b[0mlayer_dims\u001b[0m\u001b[0;34m[\u001b[0m\u001b[0mi\u001b[0m\u001b[0;34m]\u001b[0m\u001b[0;34m,\u001b[0m\u001b[0mlayer_dims\u001b[0m\u001b[0;34m[\u001b[0m\u001b[0;36m1\u001b[0m\u001b[0;34m-\u001b[0m\u001b[0;36m1\u001b[0m\u001b[0;34m]\u001b[0m\u001b[0;34m)\u001b[0m\u001b[0;34m*\u001b[0m\u001b[0;36m0.01\u001b[0m\u001b[0;34m\u001b[0m\u001b[0;34m\u001b[0m\u001b[0m\n\u001b[1;32m     19\u001b[0m         \u001b[0mparameters\u001b[0m\u001b[0;34m[\u001b[0m\u001b[0;34m'b'\u001b[0m\u001b[0;34m+\u001b[0m\u001b[0mstr\u001b[0m\u001b[0;34m(\u001b[0m\u001b[0mi\u001b[0m\u001b[0;34m)\u001b[0m\u001b[0;34m]\u001b[0m\u001b[0;34m=\u001b[0m\u001b[0mnp\u001b[0m\u001b[0;34m.\u001b[0m\u001b[0mzeros\u001b[0m\u001b[0;34m(\u001b[0m\u001b[0;34m(\u001b[0m\u001b[0mlayer_dims\u001b[0m\u001b[0;34m[\u001b[0m\u001b[0mi\u001b[0m\u001b[0;34m]\u001b[0m\u001b[0;34m,\u001b[0m\u001b[0;36m1\u001b[0m\u001b[0;34m)\u001b[0m\u001b[0;34m)\u001b[0m\u001b[0;34m\u001b[0m\u001b[0;34m\u001b[0m\u001b[0m\n\u001b[0;32m---> 20\u001b[0;31m         \u001b[0;32massert\u001b[0m \u001b[0;34m(\u001b[0m\u001b[0mparameters\u001b[0m\u001b[0;34m[\u001b[0m\u001b[0;34m'W'\u001b[0m\u001b[0;34m+\u001b[0m\u001b[0mstr\u001b[0m\u001b[0;34m(\u001b[0m\u001b[0mi\u001b[0m\u001b[0;34m)\u001b[0m\u001b[0;34m]\u001b[0m\u001b[0;34m.\u001b[0m\u001b[0mshape\u001b[0m\u001b[0;34m==\u001b[0m \u001b[0;34m(\u001b[0m\u001b[0mlayer_dims\u001b[0m\u001b[0;34m[\u001b[0m\u001b[0mi\u001b[0m\u001b[0;34m]\u001b[0m\u001b[0;34m,\u001b[0m \u001b[0mlayer_dims\u001b[0m\u001b[0;34m[\u001b[0m\u001b[0mi\u001b[0m\u001b[0;34m]\u001b[0m\u001b[0;34m)\u001b[0m\u001b[0;34m)\u001b[0m\u001b[0;34m\u001b[0m\u001b[0;34m\u001b[0m\u001b[0m\n\u001b[0m\u001b[1;32m     21\u001b[0m         \u001b[0;32massert\u001b[0m \u001b[0;34m(\u001b[0m\u001b[0mparameters\u001b[0m\u001b[0;34m[\u001b[0m\u001b[0;34m'b'\u001b[0m\u001b[0;34m+\u001b[0m\u001b[0mstr\u001b[0m\u001b[0;34m(\u001b[0m\u001b[0mi\u001b[0m\u001b[0;34m)\u001b[0m\u001b[0;34m]\u001b[0m\u001b[0;34m.\u001b[0m\u001b[0mshape\u001b[0m\u001b[0;34m==\u001b[0m \u001b[0;34m(\u001b[0m\u001b[0mlayer_dims\u001b[0m\u001b[0;34m[\u001b[0m\u001b[0mi\u001b[0m\u001b[0;34m]\u001b[0m\u001b[0;34m,\u001b[0m \u001b[0;36m1\u001b[0m\u001b[0;34m)\u001b[0m\u001b[0;34m)\u001b[0m\u001b[0;34m\u001b[0m\u001b[0;34m\u001b[0m\u001b[0m\n\u001b[1;32m     22\u001b[0m     \u001b[0;32mreturn\u001b[0m \u001b[0mparameters\u001b[0m\u001b[0;34m\u001b[0m\u001b[0;34m\u001b[0m\u001b[0m\n",
      "\u001b[0;31mAssertionError\u001b[0m: "
     ]
    }
   ],
   "source": [
    "parameters = L_layer_model(X_train, Y_train, layers_dims, num_iterations = 2500, print_cost = True)"
   ]
  },
  {
   "cell_type": "code",
   "execution_count": 127,
   "metadata": {},
   "outputs": [
    {
     "ename": "AttributeError",
     "evalue": "module 'L_Layer_NN' has no attribute 'predict'",
     "output_type": "error",
     "traceback": [
      "\u001b[1;31m---------------------------------------------------------------------------\u001b[0m",
      "\u001b[1;31mAttributeError\u001b[0m                            Traceback (most recent call last)",
      "\u001b[1;32m<ipython-input-127-abcd732ffee7>\u001b[0m in \u001b[0;36m<module>\u001b[1;34m\u001b[0m\n\u001b[1;32m----> 1\u001b[1;33m \u001b[0mpred_train\u001b[0m \u001b[1;33m=\u001b[0m \u001b[0mnn\u001b[0m\u001b[1;33m.\u001b[0m\u001b[0mpredict\u001b[0m\u001b[1;33m(\u001b[0m\u001b[0mX_train\u001b[0m\u001b[1;33m,\u001b[0m \u001b[0mY_train\u001b[0m\u001b[1;33m,\u001b[0m \u001b[0mparameters\u001b[0m\u001b[1;33m)\u001b[0m\u001b[1;33m\u001b[0m\u001b[1;33m\u001b[0m\u001b[0m\n\u001b[0m",
      "\u001b[1;31mAttributeError\u001b[0m: module 'L_Layer_NN' has no attribute 'predict'"
     ]
    }
   ],
   "source": [
    "pred_train = nn.predict(X_train, Y_train, parameters)"
   ]
  },
  {
   "cell_type": "code",
   "execution_count": 128,
   "metadata": {},
   "outputs": [
    {
     "ename": "AttributeError",
     "evalue": "module 'L_Layer_NN' has no attribute 'predict'",
     "output_type": "error",
     "traceback": [
      "\u001b[1;31m---------------------------------------------------------------------------\u001b[0m",
      "\u001b[1;31mAttributeError\u001b[0m                            Traceback (most recent call last)",
      "\u001b[1;32m<ipython-input-128-4411f7b07a09>\u001b[0m in \u001b[0;36m<module>\u001b[1;34m\u001b[0m\n\u001b[1;32m----> 1\u001b[1;33m \u001b[0mpred_val\u001b[0m \u001b[1;33m=\u001b[0m \u001b[0mnn\u001b[0m\u001b[1;33m.\u001b[0m\u001b[0mpredict\u001b[0m\u001b[1;33m(\u001b[0m\u001b[0mX_val\u001b[0m\u001b[1;33m,\u001b[0m \u001b[0mY_val\u001b[0m\u001b[1;33m,\u001b[0m \u001b[0mparameters\u001b[0m\u001b[1;33m)\u001b[0m\u001b[1;33m\u001b[0m\u001b[1;33m\u001b[0m\u001b[0m\n\u001b[0m",
      "\u001b[1;31mAttributeError\u001b[0m: module 'L_Layer_NN' has no attribute 'predict'"
     ]
    }
   ],
   "source": [
    "pred_val = nn.predict(X_val, Y_val, parameters)"
   ]
  },
  {
   "cell_type": "code",
   "execution_count": null,
   "metadata": {},
   "outputs": [],
   "source": []
  }
 ],
 "metadata": {
  "kernelspec": {
   "display_name": "Python 3",
   "language": "python",
   "name": "python3"
  },
  "language_info": {
   "codemirror_mode": {
    "name": "ipython",
    "version": 3
   },
   "file_extension": ".py",
   "mimetype": "text/x-python",
   "name": "python",
   "nbconvert_exporter": "python",
   "pygments_lexer": "ipython3",
   "version": "3.8.5"
  }
 },
 "nbformat": 4,
 "nbformat_minor": 4
}
